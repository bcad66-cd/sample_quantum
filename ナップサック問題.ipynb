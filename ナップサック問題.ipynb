{
 "cells": [
  {
   "cell_type": "code",
   "execution_count": 7,
   "metadata": {},
   "outputs": [],
   "source": [
    "from amplify import sum_poly, gen_symbols, BinaryPoly, decode_solution\n",
    "from amplify.constraint import less_equal\n",
    "import random\n",
    "import time\n",
    "x = [random.randint(30, 100) for p in range(0, 6)]\n",
    "v = [random.randint(100, 200) for p in range(0, 6)]\n",
    "# x=[10, 12, 7, 9, 21, 16]\n",
    "# v=[120, 130, 80, 100, 250, 185]"
   ]
  },
  {
   "cell_type": "code",
   "execution_count": 8,
   "metadata": {},
   "outputs": [
    {
     "name": "stdout",
     "output_type": "stream",
     "text": [
      "n=6\n",
      "x=[87, 99, 34, 60, 76, 87]\n",
      "v=[166, 139, 139, 128, 152, 147]\n",
      "443\n"
     ]
    }
   ],
   "source": [
    "n = len(x)\n",
    "limit = 2000\n",
    "print(f'n={n}\\nx={x}\\nv={v}')\n",
    "print(sum(x))\n",
    "# s = gen_symbols(IsingPoly, n)"
   ]
  },
  {
   "cell_type": "code",
   "execution_count": 9,
   "metadata": {},
   "outputs": [],
   "source": [
    "q = gen_symbols(BinaryPoly, n, int(limit/min(x)))\n",
    "f = BinaryPoly()\n",
    "\n",
    "cost = - (sum_poly(n, \n",
    "                  lambda x_n: sum_poly(int(limit/min(x)), \n",
    "                                       lambda i: q[x_n][i] * (i + 1) * v[x_n])))\n",
    "# for i in range(n):\n",
    "#     f += -(q[i] * v[i])"
   ]
  },
  {
   "cell_type": "code",
   "execution_count": 10,
   "metadata": {},
   "outputs": [],
   "source": [
    "# g = less_equal(sum_poly(q*x), limit) \n",
    "g = less_equal(sum_poly(n, \n",
    "                        lambda x_n: sum_poly(int(limit/min(x)), \n",
    "                                             lambda i: q[x_n][i] * (i + 1) * x[x_n])), limit)"
   ]
  },
  {
   "cell_type": "code",
   "execution_count": 13,
   "metadata": {},
   "outputs": [],
   "source": [
    "col = sum([less_equal(sum_poly([q[x_n][i] for i in range(int(limit/min(x)))]), 1) for x_n in range(n)])"
   ]
  },
  {
   "cell_type": "code",
   "execution_count": 15,
   "metadata": {},
   "outputs": [
    {
     "name": "stdout",
     "output_type": "stream",
     "text": [
      "87 q_0 + 174 q_1 + 261 q_2 + 348 q_3 + 435 q_4 + 522 q_5 + 609 q_6 + 696 q_7 + 783 q_8 + 870 q_9 + 957 q_10 + 1044 q_11 + 1131 q_12 + 1218 q_13 + 1305 q_14 + 1392 q_15 + 1479 q_16 + 1566 q_17 + 1653 q_18 + 1740 q_19 + 1827 q_20 + 1914 q_21 + 2001 q_22 + 2088 q_23 + 2175 q_24 + 2262 q_25 + 2349 q_26 + 2436 q_27 + 2523 q_28 + 2610 q_29 + 2697 q_30 + 2784 q_31 + 2871 q_32 + 2958 q_33 + 3045 q_34 + 3132 q_35 + 3219 q_36 + 3306 q_37 + 3393 q_38 + 3480 q_39 + 3567 q_40 + 3654 q_41 + 3741 q_42 + 3828 q_43 + 3915 q_44 + 4002 q_45 + 4089 q_46 + 4176 q_47 + 4263 q_48 + 4350 q_49 + 4437 q_50 + 4524 q_51 + 4611 q_52 + 4698 q_53 + 4785 q_54 + 4872 q_55 + 4959 q_56 + 5046 q_57 + 99 q_58 + 198 q_59 + 297 q_60 + 396 q_61 + 495 q_62 + 594 q_63 + 693 q_64 + 792 q_65 + 891 q_66 + 990 q_67 + 1089 q_68 + 1188 q_69 + 1287 q_70 + 1386 q_71 + 1485 q_72 + 1584 q_73 + 1683 q_74 + 1782 q_75 + 1881 q_76 + 1980 q_77 + 2079 q_78 + 2178 q_79 + 2277 q_80 + 2376 q_81 + 2475 q_82 + 2574 q_83 + 2673 q_84 + 2772 q_85 + 2871 q_86 + 2970 q_87 + 3069 q_88 + 3168 q_89 + 3267 q_90 + 3366 q_91 + 3465 q_92 + 3564 q_93 + 3663 q_94 + 3762 q_95 + 3861 q_96 + 3960 q_97 + 4059 q_98 + 4158 q_99 + 4257 q_100 + 4356 q_101 + 4455 q_102 + 4554 q_103 + 4653 q_104 + 4752 q_105 + 4851 q_106 + 4950 q_107 + 5049 q_108 + 5148 q_109 + 5247 q_110 + 5346 q_111 + 5445 q_112 + 5544 q_113 + 5643 q_114 + 5742 q_115 + 34 q_116 + 68 q_117 + 102 q_118 + 136 q_119 + 170 q_120 + 204 q_121 + 238 q_122 + 272 q_123 + 306 q_124 + 340 q_125 + 374 q_126 + 408 q_127 + 442 q_128 + 476 q_129 + 510 q_130 + 544 q_131 + 578 q_132 + 612 q_133 + 646 q_134 + 680 q_135 + 714 q_136 + 748 q_137 + 782 q_138 + 816 q_139 + 850 q_140 + 884 q_141 + 918 q_142 + 952 q_143 + 986 q_144 + 1020 q_145 + 1054 q_146 + 1088 q_147 + 1122 q_148 + 1156 q_149 + 1190 q_150 + 1224 q_151 + 1258 q_152 + 1292 q_153 + 1326 q_154 + 1360 q_155 + 1394 q_156 + 1428 q_157 + 1462 q_158 + 1496 q_159 + 1530 q_160 + 1564 q_161 + 1598 q_162 + 1632 q_163 + 1666 q_164 + 1700 q_165 + 1734 q_166 + 1768 q_167 + 1802 q_168 + 1836 q_169 + 1870 q_170 + 1904 q_171 + 1938 q_172 + 1972 q_173 + 60 q_174 + 120 q_175 + 180 q_176 + 240 q_177 + 300 q_178 + 360 q_179 + 420 q_180 + 480 q_181 + 540 q_182 + 600 q_183 + 660 q_184 + 720 q_185 + 780 q_186 + 840 q_187 + 900 q_188 + 960 q_189 + 1020 q_190 + 1080 q_191 + 1140 q_192 + 1200 q_193 + 1260 q_194 + 1320 q_195 + 1380 q_196 + 1440 q_197 + 1500 q_198 + 1560 q_199 + 1620 q_200 + 1680 q_201 + 1740 q_202 + 1800 q_203 + 1860 q_204 + 1920 q_205 + 1980 q_206 + 2040 q_207 + 2100 q_208 + 2160 q_209 + 2220 q_210 + 2280 q_211 + 2340 q_212 + 2400 q_213 + 2460 q_214 + 2520 q_215 + 2580 q_216 + 2640 q_217 + 2700 q_218 + 2760 q_219 + 2820 q_220 + 2880 q_221 + 2940 q_222 + 3000 q_223 + 3060 q_224 + 3120 q_225 + 3180 q_226 + 3240 q_227 + 3300 q_228 + 3360 q_229 + 3420 q_230 + 3480 q_231 + 76 q_232 + 152 q_233 + 228 q_234 + 304 q_235 + 380 q_236 + 456 q_237 + 532 q_238 + 608 q_239 + 684 q_240 + 760 q_241 + 836 q_242 + 912 q_243 + 988 q_244 + 1064 q_245 + 1140 q_246 + 1216 q_247 + 1292 q_248 + 1368 q_249 + 1444 q_250 + 1520 q_251 + 1596 q_252 + 1672 q_253 + 1748 q_254 + 1824 q_255 + 1900 q_256 + 1976 q_257 + 2052 q_258 + 2128 q_259 + 2204 q_260 + 2280 q_261 + 2356 q_262 + 2432 q_263 + 2508 q_264 + 2584 q_265 + 2660 q_266 + 2736 q_267 + 2812 q_268 + 2888 q_269 + 2964 q_270 + 3040 q_271 + 3116 q_272 + 3192 q_273 + 3268 q_274 + 3344 q_275 + 3420 q_276 + 3496 q_277 + 3572 q_278 + 3648 q_279 + 3724 q_280 + 3800 q_281 + 3876 q_282 + 3952 q_283 + 4028 q_284 + 4104 q_285 + 4180 q_286 + 4256 q_287 + 4332 q_288 + 4408 q_289 + 87 q_290 + 174 q_291 + 261 q_292 + 348 q_293 + 435 q_294 + 522 q_295 + 609 q_296 + 696 q_297 + 783 q_298 + 870 q_299 + 957 q_300 + 1044 q_301 + 1131 q_302 + 1218 q_303 + 1305 q_304 + 1392 q_305 + 1479 q_306 + 1566 q_307 + 1653 q_308 + 1740 q_309 + 1827 q_310 + 1914 q_311 + 2001 q_312 + 2088 q_313 + 2175 q_314 + 2262 q_315 + 2349 q_316 + 2436 q_317 + 2523 q_318 + 2610 q_319 + 2697 q_320 + 2784 q_321 + 2871 q_322 + 2958 q_323 + 3045 q_324 + 3132 q_325 + 3219 q_326 + 3306 q_327 + 3393 q_328 + 3480 q_329 + 3567 q_330 + 3654 q_331 + 3741 q_332 + 3828 q_333 + 3915 q_334 + 4002 q_335 + 4089 q_336 + 4176 q_337 + 4263 q_338 + 4350 q_339 + 4437 q_340 + 4524 q_341 + 4611 q_342 + 4698 q_343 + 4785 q_344 + 4872 q_345 + 4959 q_346 + 5046 q_347 <= 2000\n",
      "[(q_0 + q_1 + q_2 + q_3 + q_4 + q_5 + q_6 + q_7 + q_8 + q_9 + q_10 + q_11 + q_12 + q_13 + q_14 + q_15 + q_16 + q_17 + q_18 + q_19 + q_20 + q_21 + q_22 + q_23 + q_24 + q_25 + q_26 + q_27 + q_28 + q_29 + q_30 + q_31 + q_32 + q_33 + q_34 + q_35 + q_36 + q_37 + q_38 + q_39 + q_40 + q_41 + q_42 + q_43 + q_44 + q_45 + q_46 + q_47 + q_48 + q_49 + q_50 + q_51 + q_52 + q_53 + q_54 + q_55 + q_56 + q_57 <= 1, 1), (q_58 + q_59 + q_60 + q_61 + q_62 + q_63 + q_64 + q_65 + q_66 + q_67 + q_68 + q_69 + q_70 + q_71 + q_72 + q_73 + q_74 + q_75 + q_76 + q_77 + q_78 + q_79 + q_80 + q_81 + q_82 + q_83 + q_84 + q_85 + q_86 + q_87 + q_88 + q_89 + q_90 + q_91 + q_92 + q_93 + q_94 + q_95 + q_96 + q_97 + q_98 + q_99 + q_100 + q_101 + q_102 + q_103 + q_104 + q_105 + q_106 + q_107 + q_108 + q_109 + q_110 + q_111 + q_112 + q_113 + q_114 + q_115 <= 1, 1), (q_116 + q_117 + q_118 + q_119 + q_120 + q_121 + q_122 + q_123 + q_124 + q_125 + q_126 + q_127 + q_128 + q_129 + q_130 + q_131 + q_132 + q_133 + q_134 + q_135 + q_136 + q_137 + q_138 + q_139 + q_140 + q_141 + q_142 + q_143 + q_144 + q_145 + q_146 + q_147 + q_148 + q_149 + q_150 + q_151 + q_152 + q_153 + q_154 + q_155 + q_156 + q_157 + q_158 + q_159 + q_160 + q_161 + q_162 + q_163 + q_164 + q_165 + q_166 + q_167 + q_168 + q_169 + q_170 + q_171 + q_172 + q_173 <= 1, 1), (q_174 + q_175 + q_176 + q_177 + q_178 + q_179 + q_180 + q_181 + q_182 + q_183 + q_184 + q_185 + q_186 + q_187 + q_188 + q_189 + q_190 + q_191 + q_192 + q_193 + q_194 + q_195 + q_196 + q_197 + q_198 + q_199 + q_200 + q_201 + q_202 + q_203 + q_204 + q_205 + q_206 + q_207 + q_208 + q_209 + q_210 + q_211 + q_212 + q_213 + q_214 + q_215 + q_216 + q_217 + q_218 + q_219 + q_220 + q_221 + q_222 + q_223 + q_224 + q_225 + q_226 + q_227 + q_228 + q_229 + q_230 + q_231 <= 1, 1), (q_232 + q_233 + q_234 + q_235 + q_236 + q_237 + q_238 + q_239 + q_240 + q_241 + q_242 + q_243 + q_244 + q_245 + q_246 + q_247 + q_248 + q_249 + q_250 + q_251 + q_252 + q_253 + q_254 + q_255 + q_256 + q_257 + q_258 + q_259 + q_260 + q_261 + q_262 + q_263 + q_264 + q_265 + q_266 + q_267 + q_268 + q_269 + q_270 + q_271 + q_272 + q_273 + q_274 + q_275 + q_276 + q_277 + q_278 + q_279 + q_280 + q_281 + q_282 + q_283 + q_284 + q_285 + q_286 + q_287 + q_288 + q_289 <= 1, 1), (q_290 + q_291 + q_292 + q_293 + q_294 + q_295 + q_296 + q_297 + q_298 + q_299 + q_300 + q_301 + q_302 + q_303 + q_304 + q_305 + q_306 + q_307 + q_308 + q_309 + q_310 + q_311 + q_312 + q_313 + q_314 + q_315 + q_316 + q_317 + q_318 + q_319 + q_320 + q_321 + q_322 + q_323 + q_324 + q_325 + q_326 + q_327 + q_328 + q_329 + q_330 + q_331 + q_332 + q_333 + q_334 + q_335 + q_336 + q_337 + q_338 + q_339 + q_340 + q_341 + q_342 + q_343 + q_344 + q_345 + q_346 + q_347 <= 1, 1)]\n"
     ]
    }
   ],
   "source": [
    "print(g)\n",
    "print(col)"
   ]
  },
  {
   "cell_type": "code",
   "execution_count": 88,
   "metadata": {},
   "outputs": [],
   "source": [
    "constraints = col + g\n",
    "model = cost + constraints"
   ]
  },
  {
   "cell_type": "code",
   "execution_count": 89,
   "metadata": {},
   "outputs": [],
   "source": [
    "from amplify import Solver\n",
    "from amplify.client import FixstarsClient\n",
    "from amplify.client.ocean import LeapHybridSamplerClient\n",
    "\n",
    "client = LeapHybridSamplerClient()\n",
    "client.token = \"DEV-a2fef127495e74bc669c5c5c64a0de948ca7fcb7\"\n",
    "client.solver = \"hybrid_binary_quadratic_model_version2\"\n",
    "client.proxy = \"http://192.168.10.105:8080\"\n",
    "client.parameters.time_limit = 3  # タイムリミット3秒\n",
    "\n",
    "\n",
    "# client = FixstarsClient()  # Fixstars Optigan\n",
    "# client.parameters.timeout = 1000  # タイムアウト1秒\n",
    "# client.token = \"jhNfigG68BV1AU0nllYIq2ym0jI4snqo\"  # ローカル環境で使用する場合は、Amplify AEのアクセストークンを入力してください\n",
    "# client.proxy = \"http://192.168.10.105:8080\"\n",
    "# client.parameters.outputs.duplicate = True\n",
    "\n",
    "# ソルバーの構築\n",
    "solver = Solver(client)  # ソルバーに使用するクライアントを設定\n",
    "\n",
    "# 問題を入力してマシンを実行\n",
    "result = solver.solve(model)  # 問題を入力してマシンを実行"
   ]
  },
  {
   "cell_type": "code",
   "execution_count": 90,
   "metadata": {},
   "outputs": [
    {
     "name": "stdout",
     "output_type": "stream",
     "text": [
      "8216.0\n",
      "i:0 a: (array([], dtype=int64),)\n",
      "i:1 a: (array([], dtype=int64),)\n",
      "i:2 a: (array([], dtype=int64),)\n",
      "i:3 a: (array([], dtype=int64),)\n",
      "i:4 a: (array([], dtype=int64),)\n",
      "i:5 a: (array([], dtype=int64),)\n",
      "i:6 a: (array([], dtype=int64),)\n",
      "i:7 a: (array([], dtype=int64),)\n",
      "i:8 a: (array([3]),)\n",
      "i:9 a: (array([], dtype=int64),)\n",
      "i:10 a: (array([], dtype=int64),)\n",
      "i:11 a: (array([], dtype=int64),)\n",
      "i:12 a: (array([], dtype=int64),)\n",
      "i:13 a: (array([], dtype=int64),)\n",
      "i:14 a: (array([], dtype=int64),)\n",
      "i:15 a: (array([47]),)\n",
      "i:16 a: (array([], dtype=int64),)\n",
      "i:17 a: (array([], dtype=int64),)\n",
      "i:18 a: (array([], dtype=int64),)\n",
      "i:19 a: (array([3]),)\n",
      "ws:[(53, 4), (31, 48), (72, 4)]\n",
      "vs:[(164, 4), (145, 48), (150, 4)]\n",
      "w:1988 v:8216\n"
     ]
    }
   ],
   "source": [
    "import numpy as np\n",
    "for sol in result:\n",
    "    total_w = 0\n",
    "    solution = decode_solution(q, result[0].values)\n",
    "    w_s = []\n",
    "    v_s = []\n",
    "    print(sol.energy * -1)\n",
    "    for i, s in enumerate(solution):        \n",
    "        a = np.where(s==1)\n",
    "        print(f'i:{i} a: {a}')\n",
    "        if len(a[0]) != 0:\n",
    "            total_kaisu = 0\n",
    "            for a_v in a[0]:\n",
    "                total_kaisu += a_v+1\n",
    "                total_w += x[i] * (a_v+1)\n",
    "            w_s.append((x[i], int(total_kaisu)))\n",
    "            v_s.append((v[i], int(total_kaisu)))\n",
    "#     print(f'w:{x}')\n",
    "    print(f'ws:{w_s}')\n",
    "    print(f'vs:{v_s}')\n",
    "    print(f'w:{total_w} v:{int(sol.energy * -1)}')"
   ]
  },
  {
   "cell_type": "code",
   "execution_count": 91,
   "metadata": {},
   "outputs": [
    {
     "name": "stdout",
     "output_type": "stream",
     "text": [
      "size of knapsack is 2000.\n",
      "0.008152752998284996\n",
      "put item: 15, value: 145 in knapsack.\n",
      "put item: 15, value: 145 in knapsack.\n",
      "put item: 15, value: 145 in knapsack.\n",
      "put item: 15, value: 145 in knapsack.\n",
      "put item: 15, value: 145 in knapsack.\n",
      "put item: 15, value: 145 in knapsack.\n",
      "put item: 15, value: 145 in knapsack.\n",
      "put item: 15, value: 145 in knapsack.\n",
      "put item: 15, value: 145 in knapsack.\n",
      "put item: 15, value: 145 in knapsack.\n",
      "put item: 15, value: 145 in knapsack.\n",
      "put item: 15, value: 145 in knapsack.\n",
      "put item: 15, value: 145 in knapsack.\n",
      "put item: 15, value: 145 in knapsack.\n",
      "put item: 15, value: 145 in knapsack.\n",
      "put item: 15, value: 145 in knapsack.\n",
      "put item: 15, value: 145 in knapsack.\n",
      "put item: 15, value: 145 in knapsack.\n",
      "put item: 15, value: 145 in knapsack.\n",
      "put item: 15, value: 145 in knapsack.\n",
      "put item: 15, value: 145 in knapsack.\n",
      "put item: 15, value: 145 in knapsack.\n",
      "put item: 15, value: 145 in knapsack.\n",
      "put item: 15, value: 145 in knapsack.\n",
      "put item: 15, value: 145 in knapsack.\n",
      "put item: 15, value: 145 in knapsack.\n",
      "put item: 15, value: 145 in knapsack.\n",
      "put item: 15, value: 145 in knapsack.\n",
      "put item: 15, value: 145 in knapsack.\n",
      "put item: 15, value: 145 in knapsack.\n",
      "put item: 15, value: 145 in knapsack.\n",
      "put item: 15, value: 145 in knapsack.\n",
      "put item: 15, value: 145 in knapsack.\n",
      "put item: 15, value: 145 in knapsack.\n",
      "put item: 15, value: 145 in knapsack.\n",
      "put item: 15, value: 145 in knapsack.\n",
      "put item: 15, value: 145 in knapsack.\n",
      "put item: 15, value: 145 in knapsack.\n",
      "put item: 15, value: 145 in knapsack.\n",
      "put item: 15, value: 145 in knapsack.\n",
      "put item: 15, value: 145 in knapsack.\n",
      "put item: 15, value: 145 in knapsack.\n",
      "put item: 15, value: 145 in knapsack.\n",
      "put item: 15, value: 145 in knapsack.\n",
      "put item: 15, value: 145 in knapsack.\n",
      "put item: 15, value: 145 in knapsack.\n",
      "put item: 15, value: 145 in knapsack.\n",
      "put item: 15, value: 145 in knapsack.\n",
      "put item: 15, value: 145 in knapsack.\n",
      "put item: 15, value: 145 in knapsack.\n",
      "put item: 15, value: 145 in knapsack.\n",
      "put item: 15, value: 145 in knapsack.\n",
      "put item: 15, value: 145 in knapsack.\n",
      "put item: 15, value: 145 in knapsack.\n",
      "put item: 15, value: 145 in knapsack.\n",
      "put item: 15, value: 145 in knapsack.\n",
      "put item: 15, value: 145 in knapsack.\n",
      "put item: 15, value: 145 in knapsack.\n",
      "put item: 15, value: 145 in knapsack.\n",
      "put item: 15, value: 145 in knapsack.\n",
      "put item: 15, value: 145 in knapsack.\n",
      "put item: 15, value: 145 in knapsack.\n",
      "put item: 15, value: 145 in knapsack.\n",
      "put item: 1, value: 175 in knapsack.\n",
      "total value: 9310.\n"
     ]
    }
   ],
   "source": [
    "import sys\n",
    " \n",
    "size    = x\n",
    "value   = v\n",
    "N       = len(size)\n",
    "MAX_N   = 2001\n",
    "knapsack_size = limit\n",
    "\n",
    "print(\"size of knapsack is {}.\".format(knapsack_size))\n",
    "if knapsack_size >= MAX_N:\n",
    "    print(\"size of knapsack is too big.\")\n",
    "    sys.exit(1)\n",
    "total   = [0 for _ in range(MAX_N)]\n",
    "choice  = [-1 for _ in range(MAX_N)]\n",
    "start_time = time.perf_counter()\n",
    "for i in range(N):\n",
    "    for j in range(size[i], knapsack_size+1):\n",
    "        repack_total = total[j-size[i]] + value[i]\n",
    "        if repack_total > total[j]:\n",
    "            total[j] = repack_total\n",
    "            choice[j] = i\n",
    "i = knapsack_size\n",
    "execution_time = time.perf_counter() - start_time\n",
    "print(execution_time)\n",
    "while choice[i] >= 0:\n",
    "    print(\"put item: {}, value: {} in knapsack.\".format(choice[i],\n",
    "                value[choice[i]]))\n",
    "    i -= size[choice[i]]\n",
    "print(\"total value: {}.\".format(total[knapsack_size]))"
   ]
  },
  {
   "cell_type": "code",
   "execution_count": 54,
   "metadata": {},
   "outputs": [],
   "source": [
    "# import time\n",
    "# N,W = (n, limit)\n",
    "# print(N, W)\n",
    "# x=[10, 12, 7, 9, 21, 16]\n",
    "# v=[120, 130, 80, 100, 250, 185]\n",
    "\n",
    "# dp = [[0]*(W+1) for j in range(N+1)] # DPテーブルの作成\n",
    "# start_time = time.perf_counter()\n",
    "# for i in range(N):\n",
    "#     for j in range(W+1):\n",
    "#         if j < x[i]: # 選ばない時\n",
    "#             dp[i+1][j] = dp[i][j]\n",
    "#         else: # 選ぶ時\n",
    "#             dp[i+1][j] = max(dp[i][j],dp[i][j-x[i]]+v[i])\n",
    "# execution_time = time.perf_counter() - start_time\n",
    "# print(execution_time)\n",
    "# print(dp[N][W])"
   ]
  },
  {
   "cell_type": "code",
   "execution_count": null,
   "metadata": {},
   "outputs": [],
   "source": []
  }
 ],
 "metadata": {
  "kernelspec": {
   "display_name": "Python 3",
   "language": "python",
   "name": "python3"
  },
  "language_info": {
   "codemirror_mode": {
    "name": "ipython",
    "version": 3
   },
   "file_extension": ".py",
   "mimetype": "text/x-python",
   "name": "python",
   "nbconvert_exporter": "python",
   "pygments_lexer": "ipython3",
   "version": "3.8.12"
  }
 },
 "nbformat": 4,
 "nbformat_minor": 4
}
