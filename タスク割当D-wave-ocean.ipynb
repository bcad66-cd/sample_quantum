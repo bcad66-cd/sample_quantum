{
 "cells": [
  {
   "cell_type": "code",
   "execution_count": 59,
   "metadata": {},
   "outputs": [],
   "source": [
    "from dwave.system.samplers import LeapHybridSampler, DWaveSampler\n",
    "from dwave.system.composites import EmbeddingComposite\n",
    "import numpy as np\n",
    "from pyqubo import Array, Constraint, Placeholder, Binary\n",
    "\n",
    "schedules = {\n",
    "\t\"task1\": [\"09:00\", \"12:00\"],\n",
    "\t\"task2\": [\"10:30\", \"13:00\"],\n",
    "\t\"task3\": [\"11:30\", \"12:00\"],\n",
    "\t\"task4\": [\"12:30\", \"13:40\"],\n",
    "\t\"task5\": [\"13:00\", \"15:00\"],\n",
    "\t\"task6\": [\"14:30\", \"15:00\"],\n",
    "\t\"task7\": [\"15:30\", \"18:00\"],\n",
    "    \"task8\": [\"16:00\", \"17:00\"],\n",
    "}\n",
    "\n",
    "Ne = 5\n",
    "Nt = len(schedules)\n"
   ]
  },
  {
   "cell_type": "code",
   "execution_count": null,
   "metadata": {},
   "outputs": [],
   "source": [
    "def time2num(time: str):\n",
    "    h, m = map(float, time.split(\":\"))\n",
    "    return h + m / 60\n",
    "\n",
    "def check_overlap(time_slot1, time_slot2):\n",
    "    start1, end1 = map(time2num, time_slot1)\n",
    "    start2, end2 = map(time2num, time_slot2)\n",
    "\n",
    "    return start1 < end2 and start2 < end1"
   ]
  },
  {
   "cell_type": "code",
   "execution_count": 12,
   "metadata": {},
   "outputs": [],
   "source": [
    "q = Array.create('q', shape=(N, T, M), vartype='BINARY')"
   ]
  },
  {
   "cell_type": "code",
   "execution_count": 18,
   "metadata": {},
   "outputs": [],
   "source": [
    "H_cost = 0\n",
    "for a in range(M):\n",
    "    for b in range(M):\n",
    "        for t in range(T - 1):\n",
    "            for i in range(N):\n",
    "                H_cost += (q[i][t][a] * q[i][t + 1][b] * B[a][b]) * A[a][t] - 1"
   ]
  },
  {
   "cell_type": "code",
   "execution_count": 25,
   "metadata": {},
   "outputs": [
    {
     "name": "stdout",
     "output_type": "stream",
     "text": [
      "Constraint(label=goal,((Binary(q[1][4][3])*Num(-1.000000)+Binary(q[1][3][3])*Num(-1.000000)+Binary(q[1][2][3])*Num(-1.000000)+Binary(q[1][0][3])*Num(-1.000000)+Binary(q[1][1][3])*Num(-1.000000))+Binary(q[0][4][3])*Num(-1.000000)+Binary(q[0][3][3])*Num(-1.000000)+Binary(q[0][2][3])*Num(-1.000000)+Binary(q[0][0][3])*Num(-1.000000)+Binary(q[0][1][3])*Num(-1.000000)))\n"
     ]
    }
   ],
   "source": [
    "H_goal = Constraint(sum([sum([-q[i][t][G] for t in range(T)]) for i in range(N)]), label='goal')\n",
    "print(H_goal)"
   ]
  },
  {
   "cell_type": "code",
   "execution_count": 26,
   "metadata": {},
   "outputs": [],
   "source": [
    "H_place = Constraint(sum([sum([sum([q[i][t][a] - 1 for a in range(M)]) for t in range(T)]) for i in range(N)]), label='place')\n",
    "H_time = Constraint(sum([sum([sum([q[i][t][a] - 1 for t in range(T)]) for a in range(M)]) for i in range(N)]), label='time')\n",
    "H_start = Constraint(sum([1-q[i][0][0] for i in range(N)]), label='start')\n",
    "cost = H_cost + H_place + H_goal + H_time + H_start"
   ]
  },
  {
   "cell_type": "code",
   "execution_count": 27,
   "metadata": {},
   "outputs": [],
   "source": [
    "model = cost.compile()\n",
    "qubo, offset = model.to_qubo()"
   ]
  },
  {
   "cell_type": "code",
   "execution_count": 52,
   "metadata": {},
   "outputs": [
    {
     "name": "stdout",
     "output_type": "stream",
     "text": [
      "<dwave.system.samplers.leap_hybrid_sampler.LeapHybridSampler object at 0x7efbd2e73c88>\n"
     ]
    }
   ],
   "source": [
    "token = 'DEV-a2fef127495e74bc669c5c5c64a0de948ca7fcb7'\n",
    "endpoint = 'https://cloud.dwavesys.com/sapi'\n",
    "solver = 'hybrid_binary_quadratic_model_version2'\n",
    "dw = LeapHybridSampler(endpoint=endpoint, token=token, solver=solver)\n",
    "print(dw)"
   ]
  },
  {
   "cell_type": "code",
   "execution_count": 53,
   "metadata": {},
   "outputs": [],
   "source": [
    "sample_set = dw.sample_qubo(qubo)"
   ]
  },
  {
   "cell_type": "code",
   "execution_count": 54,
   "metadata": {},
   "outputs": [
    {
     "name": "stdout",
     "output_type": "stream",
     "text": [
      "  q[0][0][0] q[0][0][1] q[0][0][2] q[0][0][3] ... q[1][4][3] energy num_oc.\n",
      "0          0          0          0          0 ...          0    9.0       1\n",
      "['BINARY', 1 rows, 1 samples, 40 variables]\n"
     ]
    }
   ],
   "source": [
    "print(sample_set)"
   ]
  },
  {
   "cell_type": "code",
   "execution_count": 55,
   "metadata": {},
   "outputs": [
    {
     "name": "stdout",
     "output_type": "stream",
     "text": [
      "[([0, 0, 0, 0, 1, 0, 0, 0, 0, 0, 0, 0, 1, 0, 0, 1, 0, 0, 0, 0, 0, 0, 0, 0, 1, 0, 0, 0, 0, 0, 0, 0, 1, 0, 0, 0, 0, 0, 0, 0], 9., 1)]\n"
     ]
    }
   ],
   "source": [
    "r = sample_set.record\n",
    "print(r)"
   ]
  },
  {
   "cell_type": "code",
   "execution_count": 56,
   "metadata": {},
   "outputs": [
    {
     "data": {
      "text/plain": [
       "DecodedSample(decoded_subhs=[Constraint(start,energy=2.000000),Constraint(time,energy=-35.000000),Constraint(goal,energy=-1.000000),Constraint(place,energy=-35.000000)],sample={q[1][4][2]:0,q[1][4][1]:0,q[1][4][0]:0,q[1][2][2]:0,q[1][1][2]:0,q[1][1][1]:0,q[1][1][0]:1,q[1][3][0]:1,q[1][0][2]:0,q[0][2][0]:0,q[0][3][1]:0,q[1][3][1]:0,q[0][1][3]:0,q[1][4][3]:0,q[0][1][2]:0,q[0][1][0]:1,q[0][1][1]:0,q[0][0][3]:0,q[1][3][3]:0,q[0][0][1]:0,q[1][1][3]:0,q[0][0][0]:0,q[1][2][0]:0,q[0][4][3]:0,q[1][2][3]:0,q[1][2][1]:0,q[0][2][2]:0,q[0][2][3]:0,q[0][0][2]:0,q[0][3][0]:1,q[1][3][2]:0,q[0][4][1]:0,q[0][3][3]:1,q[0][4][0]:0,q[0][2][1]:0,q[0][4][2]:0,q[1][0][3]:0,q[0][3][2]:0,q[1][0][0]:0,q[1][0][1]:0})"
      ]
     },
     "execution_count": 56,
     "metadata": {},
     "output_type": "execute_result"
    }
   ],
   "source": [
    "decoded_sample = model.decode_sample(sample_set.first.sample, vartype=\"BINARY\")\n",
    "decoded_sample"
   ]
  },
  {
   "cell_type": "code",
   "execution_count": 58,
   "metadata": {},
   "outputs": [
    {
     "data": {
      "text/plain": [
       "{0: {0: 0, 1: 0, 2: 0, 3: 0},\n",
       " 1: {0: 1, 1: 0, 2: 0, 3: 0},\n",
       " 2: {0: 0, 1: 0, 2: 0, 3: 0},\n",
       " 3: {0: 1, 1: 0, 2: 0, 3: 1},\n",
       " 4: {0: 0, 1: 0, 2: 0, 3: 0}}"
      ]
     },
     "execution_count": 58,
     "metadata": {},
     "output_type": "execute_result"
    }
   ],
   "source": [
    "s = {}\n",
    "for t in range(T):\n",
    "    s[t] = {}\n",
    "    for a in range(M):\n",
    "        s[t][a] = decoded_sample.array('q', (0, t, a))\n",
    "s"
   ]
  },
  {
   "cell_type": "code",
   "execution_count": 44,
   "metadata": {},
   "outputs": [
    {
     "name": "stdout",
     "output_type": "stream",
     "text": [
      "{'goal': (False, -3.0), 'place': (False, -35.0), 'start': (False, 2.0), 'time': (False, -35.0)}\n"
     ]
    }
   ],
   "source": [
    "print(decoded_sample.constraints(only_broken=True))"
   ]
  },
  {
   "cell_type": "code",
   "execution_count": 47,
   "metadata": {},
   "outputs": [],
   "source": []
  },
  {
   "cell_type": "code",
   "execution_count": null,
   "metadata": {},
   "outputs": [],
   "source": []
  }
 ],
 "metadata": {
  "kernelspec": {
   "display_name": "Python 3",
   "language": "python",
   "name": "python3"
  },
  "language_info": {
   "codemirror_mode": {
    "name": "ipython",
    "version": 3
   },
   "file_extension": ".py",
   "mimetype": "text/x-python",
   "name": "python",
   "nbconvert_exporter": "python",
   "pygments_lexer": "ipython3",
   "version": "3.8.12"
  }
 },
 "nbformat": 4,
 "nbformat_minor": 4
}
